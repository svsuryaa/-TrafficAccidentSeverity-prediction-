{
  "cells": [
    {
      "cell_type": "markdown",
      "metadata": {
        "id": "A1aV5APfkWN7"
      },
      "source": [
        "# 1. Introduction <a id='intro'>\n",
        "Road traffic injuries are currently estimated to be the eighth leading cause of death across all age groups globally, and are predicted to become the seventh leading cause of death by 2030.\n",
        "    \n",
        "Analysing a significant range of factors, including weather conditions, special events, roadworks, traffic jams among others, an accurate prediction of the severity of the accidents can be performed.\n",
        "\n",
        "These insights, could allow law enforcement bodies to allocate their resources more effectively in advance of potential accidents, preventing when and where a severe accidents can occur as well as saving both, time and money. In addition, this knowledge of a severe accident situation can be warned to drivers so that they would drive more carefully or even change their route if it is possible or to hospital which could have set everything ready for a severe intervention in advance.\n",
        "\n",
        "Governments should be highly interested in accurate predictions of the severity of an accident, in order to reduce the time of arrival and thus save a significant amount of people each year. Others interested could be private companies investing in technologies aiming to improve road safeness."
      ]
    },
    {
      "cell_type": "code",
      "source": [
        "from google.colab import drive\n",
        "drive.mount('/content/drive')"
      ],
      "metadata": {
        "colab": {
          "base_uri": "https://localhost:8080/"
        },
        "id": "t4YgTBY7l6Ba",
        "outputId": "9c884f70-3fc5-4fde-bcf5-985e2c320000"
      },
      "execution_count": null,
      "outputs": [
        {
          "output_type": "stream",
          "name": "stdout",
          "text": [
            "Drive already mounted at /content/drive; to attempt to forcibly remount, call drive.mount(\"/content/drive\", force_remount=True).\n"
          ]
        }
      ]
    },
    {
      "cell_type": "markdown",
      "metadata": {
        "id": "R-ynKkZwkWN9"
      },
      "source": [
        "# 2. Data <a id='data'>\n",
        "    \n",
        "\n",
        "\n",
        "The features of the dataset resulting are the following:\n",
        "\n",
        "In the *characteristics* dataset, I will keep the features: \"lighting\", \"localisation\"(agg), \"type of intersection\", \"atmospheric conditions\", \"type of collisions\", \"department\", \"adress\", \"time\" and the coordinates. I added two new features from this original dataset: \"date\" and \"weekend\" indicating if the accident occurred during the weekend or not.\n",
        "\n",
        "In the *places* dataset, I will keep only the features: \"road categorie\", \"traffic regime\", \"number of traffic lanes\", \"road profile\", \"road shape\", \"surface condition\", \"situation\", \"school nearby\" and \"infrastructure\".\n",
        "\n",
        "From the *users* dataset, I have created the following features: \n",
        "+ num_us: total number of users involved in the accident.\n",
        "+ ped: Wether there are pedestrians involved or not.\n",
        "+ critic_age: If there is any user in between 17 and 31 y.o.\n",
        "+ sev : maximum gravity suffered by any user involved in the accident:\n",
        "    + 0 = Unscathered or Light injury\n",
        "    + 1 = Hospitalized wonded or Death\n",
        "\n",
        "I used the *holiday* dataset to craft a new feature indicating the accident accurred during a holiday."
      ]
    },
    {
      "cell_type": "code",
      "execution_count": null,
      "metadata": {
        "id": "HMi3pg3RkWN-"
      },
      "outputs": [],
      "source": [
        "import pandas as pd\n",
        "import numpy as np\n",
        "import seaborn as sns\n",
        "\n",
        "import matplotlib.pyplot as plt\n",
        "\n",
        "import datetime as dt\n",
        "\n",
        "import warnings\n",
        "warnings.filterwarnings('ignore')"
      ]
    },
    {
      "cell_type": "markdown",
      "metadata": {
        "id": "RIAidxTpkWN_"
      },
      "source": [
        "# 3. Data Cleaning <a id='clean'>\n",
        "    \n",
        "Before starting to run any ML algorithm on the data, the data have to go through the preprocessing part. In this part, data will be cleaned so there is no missing or unusual value. The goal is that the data is the best possible before applying the algorithms."
      ]
    },
    {
      "cell_type": "markdown",
      "metadata": {
        "id": "y2nk7-bJkWOA"
      },
      "source": [
        "### Importing Data "
      ]
    },
    {
      "cell_type": "code",
      "execution_count": null,
      "metadata": {
        "colab": {
          "base_uri": "https://localhost:8080/",
          "height": 392
        },
        "id": "zZziijj1kWOA",
        "outputId": "6c24508e-dd8a-4df4-b549-b2db9412a79b"
      },
      "outputs": [
        {
          "output_type": "execute_result",
          "data": {
            "text/plain": [
              "             ID  time  lum  agg  int  atm  col  lat long  dep  ...  situation  \\\n",
              "0  201600000001  14.0    1    2    1  8.0  3.0  0.0  0.0  590  ...        1.0   \n",
              "1  201600000002  18.0    1    2    6  1.0  6.0  0.0  0.0  590  ...        1.0   \n",
              "2  201600000003  19.0    1    1    1  1.0  6.0  0.0  0.0  590  ...        3.0   \n",
              "3  201600000004  19.0    2    2    1  7.0  3.0  0.0  0.0  590  ...        1.0   \n",
              "4  201600000005  11.0    1    2    3  1.0  3.0  0.0  0.0  590  ...        1.0   \n",
              "5  201600000006  11.0    1    2    1  7.0  6.0  0.0  0.0  590  ...        1.0   \n",
              "6  201600000007  11.0    1    2    1  7.0  2.0  0.0  0.0  590  ...        1.0   \n",
              "7  201600000008  19.0    2    1    1  1.0  1.0  0.0  0.0  590  ...        1.0   \n",
              "8  201600000009  19.0    1    2    1  1.0  3.0  0.0  0.0  590  ...        1.0   \n",
              "9  201600000010  10.0    1    1    1  9.0  6.0  0.0  0.0  590  ...        1.0   \n",
              "\n",
              "  school  crit_age  ped  dead_age  num_us  sev        date  weekend  holiday  \n",
              "0    0.0         0    0         0       2    1  2016-02-01        0      0.0  \n",
              "1    0.0         0    0         0       3    1  2016-03-16        0      0.0  \n",
              "2   99.0         1    1         0       2    1  2016-07-13        0      0.0  \n",
              "3   99.0         1    0         0       3    1  2016-08-15        0      1.0  \n",
              "4    3.0         0    0         0       3    1  2016-12-23        0      0.0  \n",
              "5   99.0         0    1         0       2    1  2016-12-23        0      0.0  \n",
              "6   99.0         0    0         0       3    0  2016-05-01        1      1.0  \n",
              "7    0.0         0    0         0       3    1  2016-05-14        1      0.0  \n",
              "8   99.0         0    0         0       2    1  2016-09-23        0      0.0  \n",
              "9    0.0         0    1         0       2    1  2016-12-30        0      0.0  \n",
              "\n",
              "[10 rows x 29 columns]"
            ],
            "text/html": [
              "\n",
              "  <div id=\"df-b12399b5-5e80-4f30-be83-2dacc4b25c14\">\n",
              "    <div class=\"colab-df-container\">\n",
              "      <div>\n",
              "<style scoped>\n",
              "    .dataframe tbody tr th:only-of-type {\n",
              "        vertical-align: middle;\n",
              "    }\n",
              "\n",
              "    .dataframe tbody tr th {\n",
              "        vertical-align: top;\n",
              "    }\n",
              "\n",
              "    .dataframe thead th {\n",
              "        text-align: right;\n",
              "    }\n",
              "</style>\n",
              "<table border=\"1\" class=\"dataframe\">\n",
              "  <thead>\n",
              "    <tr style=\"text-align: right;\">\n",
              "      <th></th>\n",
              "      <th>ID</th>\n",
              "      <th>time</th>\n",
              "      <th>lum</th>\n",
              "      <th>agg</th>\n",
              "      <th>int</th>\n",
              "      <th>atm</th>\n",
              "      <th>col</th>\n",
              "      <th>lat</th>\n",
              "      <th>long</th>\n",
              "      <th>dep</th>\n",
              "      <th>...</th>\n",
              "      <th>situation</th>\n",
              "      <th>school</th>\n",
              "      <th>crit_age</th>\n",
              "      <th>ped</th>\n",
              "      <th>dead_age</th>\n",
              "      <th>num_us</th>\n",
              "      <th>sev</th>\n",
              "      <th>date</th>\n",
              "      <th>weekend</th>\n",
              "      <th>holiday</th>\n",
              "    </tr>\n",
              "  </thead>\n",
              "  <tbody>\n",
              "    <tr>\n",
              "      <th>0</th>\n",
              "      <td>201600000001</td>\n",
              "      <td>14.0</td>\n",
              "      <td>1</td>\n",
              "      <td>2</td>\n",
              "      <td>1</td>\n",
              "      <td>8.0</td>\n",
              "      <td>3.0</td>\n",
              "      <td>0.0</td>\n",
              "      <td>0.0</td>\n",
              "      <td>590</td>\n",
              "      <td>...</td>\n",
              "      <td>1.0</td>\n",
              "      <td>0.0</td>\n",
              "      <td>0</td>\n",
              "      <td>0</td>\n",
              "      <td>0</td>\n",
              "      <td>2</td>\n",
              "      <td>1</td>\n",
              "      <td>2016-02-01</td>\n",
              "      <td>0</td>\n",
              "      <td>0.0</td>\n",
              "    </tr>\n",
              "    <tr>\n",
              "      <th>1</th>\n",
              "      <td>201600000002</td>\n",
              "      <td>18.0</td>\n",
              "      <td>1</td>\n",
              "      <td>2</td>\n",
              "      <td>6</td>\n",
              "      <td>1.0</td>\n",
              "      <td>6.0</td>\n",
              "      <td>0.0</td>\n",
              "      <td>0.0</td>\n",
              "      <td>590</td>\n",
              "      <td>...</td>\n",
              "      <td>1.0</td>\n",
              "      <td>0.0</td>\n",
              "      <td>0</td>\n",
              "      <td>0</td>\n",
              "      <td>0</td>\n",
              "      <td>3</td>\n",
              "      <td>1</td>\n",
              "      <td>2016-03-16</td>\n",
              "      <td>0</td>\n",
              "      <td>0.0</td>\n",
              "    </tr>\n",
              "    <tr>\n",
              "      <th>2</th>\n",
              "      <td>201600000003</td>\n",
              "      <td>19.0</td>\n",
              "      <td>1</td>\n",
              "      <td>1</td>\n",
              "      <td>1</td>\n",
              "      <td>1.0</td>\n",
              "      <td>6.0</td>\n",
              "      <td>0.0</td>\n",
              "      <td>0.0</td>\n",
              "      <td>590</td>\n",
              "      <td>...</td>\n",
              "      <td>3.0</td>\n",
              "      <td>99.0</td>\n",
              "      <td>1</td>\n",
              "      <td>1</td>\n",
              "      <td>0</td>\n",
              "      <td>2</td>\n",
              "      <td>1</td>\n",
              "      <td>2016-07-13</td>\n",
              "      <td>0</td>\n",
              "      <td>0.0</td>\n",
              "    </tr>\n",
              "    <tr>\n",
              "      <th>3</th>\n",
              "      <td>201600000004</td>\n",
              "      <td>19.0</td>\n",
              "      <td>2</td>\n",
              "      <td>2</td>\n",
              "      <td>1</td>\n",
              "      <td>7.0</td>\n",
              "      <td>3.0</td>\n",
              "      <td>0.0</td>\n",
              "      <td>0.0</td>\n",
              "      <td>590</td>\n",
              "      <td>...</td>\n",
              "      <td>1.0</td>\n",
              "      <td>99.0</td>\n",
              "      <td>1</td>\n",
              "      <td>0</td>\n",
              "      <td>0</td>\n",
              "      <td>3</td>\n",
              "      <td>1</td>\n",
              "      <td>2016-08-15</td>\n",
              "      <td>0</td>\n",
              "      <td>1.0</td>\n",
              "    </tr>\n",
              "    <tr>\n",
              "      <th>4</th>\n",
              "      <td>201600000005</td>\n",
              "      <td>11.0</td>\n",
              "      <td>1</td>\n",
              "      <td>2</td>\n",
              "      <td>3</td>\n",
              "      <td>1.0</td>\n",
              "      <td>3.0</td>\n",
              "      <td>0.0</td>\n",
              "      <td>0.0</td>\n",
              "      <td>590</td>\n",
              "      <td>...</td>\n",
              "      <td>1.0</td>\n",
              "      <td>3.0</td>\n",
              "      <td>0</td>\n",
              "      <td>0</td>\n",
              "      <td>0</td>\n",
              "      <td>3</td>\n",
              "      <td>1</td>\n",
              "      <td>2016-12-23</td>\n",
              "      <td>0</td>\n",
              "      <td>0.0</td>\n",
              "    </tr>\n",
              "    <tr>\n",
              "      <th>5</th>\n",
              "      <td>201600000006</td>\n",
              "      <td>11.0</td>\n",
              "      <td>1</td>\n",
              "      <td>2</td>\n",
              "      <td>1</td>\n",
              "      <td>7.0</td>\n",
              "      <td>6.0</td>\n",
              "      <td>0.0</td>\n",
              "      <td>0.0</td>\n",
              "      <td>590</td>\n",
              "      <td>...</td>\n",
              "      <td>1.0</td>\n",
              "      <td>99.0</td>\n",
              "      <td>0</td>\n",
              "      <td>1</td>\n",
              "      <td>0</td>\n",
              "      <td>2</td>\n",
              "      <td>1</td>\n",
              "      <td>2016-12-23</td>\n",
              "      <td>0</td>\n",
              "      <td>0.0</td>\n",
              "    </tr>\n",
              "    <tr>\n",
              "      <th>6</th>\n",
              "      <td>201600000007</td>\n",
              "      <td>11.0</td>\n",
              "      <td>1</td>\n",
              "      <td>2</td>\n",
              "      <td>1</td>\n",
              "      <td>7.0</td>\n",
              "      <td>2.0</td>\n",
              "      <td>0.0</td>\n",
              "      <td>0.0</td>\n",
              "      <td>590</td>\n",
              "      <td>...</td>\n",
              "      <td>1.0</td>\n",
              "      <td>99.0</td>\n",
              "      <td>0</td>\n",
              "      <td>0</td>\n",
              "      <td>0</td>\n",
              "      <td>3</td>\n",
              "      <td>0</td>\n",
              "      <td>2016-05-01</td>\n",
              "      <td>1</td>\n",
              "      <td>1.0</td>\n",
              "    </tr>\n",
              "    <tr>\n",
              "      <th>7</th>\n",
              "      <td>201600000008</td>\n",
              "      <td>19.0</td>\n",
              "      <td>2</td>\n",
              "      <td>1</td>\n",
              "      <td>1</td>\n",
              "      <td>1.0</td>\n",
              "      <td>1.0</td>\n",
              "      <td>0.0</td>\n",
              "      <td>0.0</td>\n",
              "      <td>590</td>\n",
              "      <td>...</td>\n",
              "      <td>1.0</td>\n",
              "      <td>0.0</td>\n",
              "      <td>0</td>\n",
              "      <td>0</td>\n",
              "      <td>0</td>\n",
              "      <td>3</td>\n",
              "      <td>1</td>\n",
              "      <td>2016-05-14</td>\n",
              "      <td>1</td>\n",
              "      <td>0.0</td>\n",
              "    </tr>\n",
              "    <tr>\n",
              "      <th>8</th>\n",
              "      <td>201600000009</td>\n",
              "      <td>19.0</td>\n",
              "      <td>1</td>\n",
              "      <td>2</td>\n",
              "      <td>1</td>\n",
              "      <td>1.0</td>\n",
              "      <td>3.0</td>\n",
              "      <td>0.0</td>\n",
              "      <td>0.0</td>\n",
              "      <td>590</td>\n",
              "      <td>...</td>\n",
              "      <td>1.0</td>\n",
              "      <td>99.0</td>\n",
              "      <td>0</td>\n",
              "      <td>0</td>\n",
              "      <td>0</td>\n",
              "      <td>2</td>\n",
              "      <td>1</td>\n",
              "      <td>2016-09-23</td>\n",
              "      <td>0</td>\n",
              "      <td>0.0</td>\n",
              "    </tr>\n",
              "    <tr>\n",
              "      <th>9</th>\n",
              "      <td>201600000010</td>\n",
              "      <td>10.0</td>\n",
              "      <td>1</td>\n",
              "      <td>1</td>\n",
              "      <td>1</td>\n",
              "      <td>9.0</td>\n",
              "      <td>6.0</td>\n",
              "      <td>0.0</td>\n",
              "      <td>0.0</td>\n",
              "      <td>590</td>\n",
              "      <td>...</td>\n",
              "      <td>1.0</td>\n",
              "      <td>0.0</td>\n",
              "      <td>0</td>\n",
              "      <td>1</td>\n",
              "      <td>0</td>\n",
              "      <td>2</td>\n",
              "      <td>1</td>\n",
              "      <td>2016-12-30</td>\n",
              "      <td>0</td>\n",
              "      <td>0.0</td>\n",
              "    </tr>\n",
              "  </tbody>\n",
              "</table>\n",
              "<p>10 rows × 29 columns</p>\n",
              "</div>\n",
              "      <button class=\"colab-df-convert\" onclick=\"convertToInteractive('df-b12399b5-5e80-4f30-be83-2dacc4b25c14')\"\n",
              "              title=\"Convert this dataframe to an interactive table.\"\n",
              "              style=\"display:none;\">\n",
              "        \n",
              "  <svg xmlns=\"http://www.w3.org/2000/svg\" height=\"24px\"viewBox=\"0 0 24 24\"\n",
              "       width=\"24px\">\n",
              "    <path d=\"M0 0h24v24H0V0z\" fill=\"none\"/>\n",
              "    <path d=\"M18.56 5.44l.94 2.06.94-2.06 2.06-.94-2.06-.94-.94-2.06-.94 2.06-2.06.94zm-11 1L8.5 8.5l.94-2.06 2.06-.94-2.06-.94L8.5 2.5l-.94 2.06-2.06.94zm10 10l.94 2.06.94-2.06 2.06-.94-2.06-.94-.94-2.06-.94 2.06-2.06.94z\"/><path d=\"M17.41 7.96l-1.37-1.37c-.4-.4-.92-.59-1.43-.59-.52 0-1.04.2-1.43.59L10.3 9.45l-7.72 7.72c-.78.78-.78 2.05 0 2.83L4 21.41c.39.39.9.59 1.41.59.51 0 1.02-.2 1.41-.59l7.78-7.78 2.81-2.81c.8-.78.8-2.07 0-2.86zM5.41 20L4 18.59l7.72-7.72 1.47 1.35L5.41 20z\"/>\n",
              "  </svg>\n",
              "      </button>\n",
              "      \n",
              "  <style>\n",
              "    .colab-df-container {\n",
              "      display:flex;\n",
              "      flex-wrap:wrap;\n",
              "      gap: 12px;\n",
              "    }\n",
              "\n",
              "    .colab-df-convert {\n",
              "      background-color: #E8F0FE;\n",
              "      border: none;\n",
              "      border-radius: 50%;\n",
              "      cursor: pointer;\n",
              "      display: none;\n",
              "      fill: #1967D2;\n",
              "      height: 32px;\n",
              "      padding: 0 0 0 0;\n",
              "      width: 32px;\n",
              "    }\n",
              "\n",
              "    .colab-df-convert:hover {\n",
              "      background-color: #E2EBFA;\n",
              "      box-shadow: 0px 1px 2px rgba(60, 64, 67, 0.3), 0px 1px 3px 1px rgba(60, 64, 67, 0.15);\n",
              "      fill: #174EA6;\n",
              "    }\n",
              "\n",
              "    [theme=dark] .colab-df-convert {\n",
              "      background-color: #3B4455;\n",
              "      fill: #D2E3FC;\n",
              "    }\n",
              "\n",
              "    [theme=dark] .colab-df-convert:hover {\n",
              "      background-color: #434B5C;\n",
              "      box-shadow: 0px 1px 3px 1px rgba(0, 0, 0, 0.15);\n",
              "      filter: drop-shadow(0px 1px 2px rgba(0, 0, 0, 0.3));\n",
              "      fill: #FFFFFF;\n",
              "    }\n",
              "  </style>\n",
              "\n",
              "      <script>\n",
              "        const buttonEl =\n",
              "          document.querySelector('#df-b12399b5-5e80-4f30-be83-2dacc4b25c14 button.colab-df-convert');\n",
              "        buttonEl.style.display =\n",
              "          google.colab.kernel.accessAllowed ? 'block' : 'none';\n",
              "\n",
              "        async function convertToInteractive(key) {\n",
              "          const element = document.querySelector('#df-b12399b5-5e80-4f30-be83-2dacc4b25c14');\n",
              "          const dataTable =\n",
              "            await google.colab.kernel.invokeFunction('convertToInteractive',\n",
              "                                                     [key], {});\n",
              "          if (!dataTable) return;\n",
              "\n",
              "          const docLinkHtml = 'Like what you see? Visit the ' +\n",
              "            '<a target=\"_blank\" href=https://colab.research.google.com/notebooks/data_table.ipynb>data table notebook</a>'\n",
              "            + ' to learn more about interactive tables.';\n",
              "          element.innerHTML = '';\n",
              "          dataTable['output_type'] = 'display_data';\n",
              "          await google.colab.output.renderOutput(dataTable, element);\n",
              "          const docLink = document.createElement('div');\n",
              "          docLink.innerHTML = docLinkHtml;\n",
              "          element.appendChild(docLink);\n",
              "        }\n",
              "      </script>\n",
              "    </div>\n",
              "  </div>\n",
              "  "
            ]
          },
          "metadata": {},
          "execution_count": 7
        }
      ],
      "source": [
        "df = pd.read_csv('/content/drive/MyDrive/car accidents france/Data.csv', index_col=0)\n",
        "df.head(10)"
      ]
    },
    {
      "cell_type": "code",
      "source": [
        "df['road_cat'].unique()"
      ],
      "metadata": {
        "colab": {
          "base_uri": "https://localhost:8080/"
        },
        "id": "nRCc2mWevqMx",
        "outputId": "c184964a-fe5b-4ab5-c5b0-0a8e85193728"
      },
      "execution_count": null,
      "outputs": [
        {
          "output_type": "execute_result",
          "data": {
            "text/plain": [
              "array([ 3.,  4.,  9.,  2.,  1.,  5.,  6., nan])"
            ]
          },
          "metadata": {},
          "execution_count": 8
        }
      ]
    },
    {
      "cell_type": "code",
      "source": [
        "df['long_prof'].unique()"
      ],
      "metadata": {
        "colab": {
          "base_uri": "https://localhost:8080/"
        },
        "id": "VhnpnZDG0iu8",
        "outputId": "3c86edd4-40f8-4878-9e1d-3586ad5ef3bb"
      },
      "execution_count": null,
      "outputs": [
        {
          "output_type": "execute_result",
          "data": {
            "text/plain": [
              "array([ 1.,  0.,  2.,  3.,  4., nan])"
            ]
          },
          "metadata": {},
          "execution_count": 9
        }
      ]
    },
    {
      "cell_type": "code",
      "source": [
        "df['shape'].unique()"
      ],
      "metadata": {
        "colab": {
          "base_uri": "https://localhost:8080/"
        },
        "id": "BiTfAJW11oAv",
        "outputId": "d4a71eca-8a08-4372-8436-99d90bb317ab"
      },
      "execution_count": null,
      "outputs": [
        {
          "output_type": "execute_result",
          "data": {
            "text/plain": [
              "array([ 3.,  2.,  1.,  0.,  4., nan])"
            ]
          },
          "metadata": {},
          "execution_count": 10
        }
      ]
    },
    {
      "cell_type": "markdown",
      "metadata": {
        "id": "JC1W-wgxkWOC"
      },
      "source": [
        "## Missing values"
      ]
    },
    {
      "cell_type": "code",
      "execution_count": null,
      "metadata": {
        "colab": {
          "base_uri": "https://localhost:8080/"
        },
        "id": "yadNSbcWkWOC",
        "outputId": "ebb11de8-d22a-41a8-e371-983c893831cd"
      },
      "outputs": [
        {
          "output_type": "stream",
          "name": "stdout",
          "text": [
            "<class 'pandas.core.frame.DataFrame'>\n",
            "Int64Index: 839985 entries, 0 to 839984\n",
            "Data columns (total 29 columns):\n",
            " #   Column     Non-Null Count   Dtype  \n",
            "---  ------     --------------   -----  \n",
            " 0   ID         839985 non-null  int64  \n",
            " 1   time       839985 non-null  float64\n",
            " 2   lum        839985 non-null  int64  \n",
            " 3   agg        839985 non-null  int64  \n",
            " 4   int        839985 non-null  int64  \n",
            " 5   atm        839930 non-null  float64\n",
            " 6   col        839974 non-null  float64\n",
            " 7   lat        362471 non-null  float64\n",
            " 8   long       362467 non-null  object \n",
            " 9   dep        839985 non-null  int64  \n",
            " 10  road_cat   839984 non-null  float64\n",
            " 11  road_num   780914 non-null  object \n",
            " 12  traf_reg   839187 non-null  float64\n",
            " 13  num_lanes  838195 non-null  float64\n",
            " 14  res_lane   838345 non-null  float64\n",
            " 15  long_prof  838924 non-null  float64\n",
            " 16  shape      838909 non-null  float64\n",
            " 17  surf       838968 non-null  float64\n",
            " 18  infra      838707 non-null  float64\n",
            " 19  situation  838983 non-null  float64\n",
            " 20  school     838709 non-null  float64\n",
            " 21  crit_age   839985 non-null  int64  \n",
            " 22  ped        839985 non-null  int64  \n",
            " 23  dead_age   839985 non-null  int64  \n",
            " 24  num_us     839985 non-null  int64  \n",
            " 25  sev        839985 non-null  int64  \n",
            " 26  date       839985 non-null  object \n",
            " 27  weekend    839985 non-null  int64  \n",
            " 28  holiday    839985 non-null  float64\n",
            "dtypes: float64(15), int64(11), object(3)\n",
            "memory usage: 192.3+ MB\n"
          ]
        }
      ],
      "source": [
        "df.info()"
      ]
    },
    {
      "cell_type": "code",
      "execution_count": null,
      "metadata": {
        "colab": {
          "base_uri": "https://localhost:8080/"
        },
        "id": "z8GvjtNIkWOD",
        "outputId": "5ae4b44f-2efa-4385-8b7e-82e68fc76278"
      },
      "outputs": [
        {
          "output_type": "execute_result",
          "data": {
            "text/plain": [
              "count     780914.0\n",
              "unique      2088.0\n",
              "top            0.0\n",
              "freq      439016.0\n",
              "Name: road_num, dtype: float64"
            ]
          },
          "metadata": {},
          "execution_count": 12
        }
      ],
      "source": [
        "df['road_num'].describe()"
      ]
    },
    {
      "cell_type": "markdown",
      "metadata": {
        "id": "SLW0bhXRkWOD"
      },
      "source": [
        "From the summary of the data we see that the data types are coherent with their respective values, with the only exception of the date, and that some features have missing values. \n",
        "\n",
        "+ More than half of the values for the coordenates are missig, as well as roughly a 10% of the data regarding the road_num and more than a 50% of the remaining samples are a 0. Thus, to keep the amount of samples the mentioned features will be dropped. \n",
        "\n",
        "+ Few values are missing in some features such as the atmospheric conditions or road category.\n",
        "\n",
        "\n",
        "Missing values and outliers will be filled with the label for *Other cases* category if possible. If not the most frequent value of the feature will be applyed."
      ]
    },
    {
      "cell_type": "code",
      "execution_count": null,
      "metadata": {
        "id": "_QKNmKKPkWOE"
      },
      "outputs": [],
      "source": [
        "df.drop(['lat', 'long', 'road_num'], axis=1, inplace=True)"
      ]
    },
    {
      "cell_type": "code",
      "execution_count": null,
      "metadata": {
        "colab": {
          "base_uri": "https://localhost:8080/"
        },
        "id": "J4omZn3dkWOE",
        "outputId": "6ff7783e-c8c9-462f-939c-9ed851e6c39b"
      },
      "outputs": [
        {
          "output_type": "stream",
          "name": "stdout",
          "text": [
            "Missing values in atm: 55 \n",
            "Missing values in collision: 11 \n",
            "Missing values in road_cat: 1 \n",
            "Missing values in surf: 1017\n"
          ]
        }
      ],
      "source": [
        "print('Missing values in atm:', df[\"atm\"].isna().sum(),'\\n'\n",
        "    'Missing values in collision:', df[\"col\"].isna().sum(), '\\n'\n",
        "    'Missing values in road_cat:', df[\"road_cat\"].isna().sum(),'\\n'\n",
        "    'Missing values in surf:', df[\"surf\"].isna().sum())"
      ]
    },
    {
      "cell_type": "code",
      "execution_count": null,
      "metadata": {
        "colab": {
          "base_uri": "https://localhost:8080/",
          "height": 421
        },
        "id": "pPB9QV4BkWOE",
        "outputId": "f3bd6062-7cb1-4c19-a4aa-585d184ca10d"
      },
      "outputs": [
        {
          "output_type": "execute_result",
          "data": {
            "text/plain": [
              "<matplotlib.legend.Legend at 0x7f78fc087f50>"
            ]
          },
          "metadata": {},
          "execution_count": 15
        },
        {
          "output_type": "display_data",
          "data": {
            "text/plain": [
              "<Figure size 864x432 with 1 Axes>"
            ],
            "image/png": "[encoded data removed]"
          },
          "metadata": {
            "needs_background": "light"
          }
        }
      ],
      "source": [
        "df['atm'].hist(alpha=0.5, rwidth=0.35, align='mid', figsize=(12,6), label='atm')\n",
        "df['col'].hist(alpha=0.5, rwidth=0.35, align='mid', label='collision')\n",
        "df['road_cat'].hist(alpha=0.6, rwidth=0.35, align='left', label='road_cat')\n",
        "df['surf'].hist(alpha=0.3,rwidth=0.35, align='left', label='surf')\n",
        "plt.title('Frequency of the values in 4 different features', size=12)\n",
        "plt.xticks(range(10))\n",
        "plt.xlabel('Value')\n",
        "plt.ylabel('Frequency')\n",
        "plt.legend()"
      ]
    },
    {
      "cell_type": "markdown",
      "metadata": {
        "id": "cOic5ZlmkWOF"
      },
      "source": [
        "The 0 value in the surface is the only outlier. The minimum number for all features is 1."
      ]
    },
    {
      "cell_type": "code",
      "execution_count": null,
      "metadata": {
        "colab": {
          "base_uri": "https://localhost:8080/"
        },
        "id": "GP5qoQjNkWOF",
        "outputId": "98b29ef4-9abc-49d2-dba0-e4f6bd21e31b"
      },
      "outputs": [
        {
          "output_type": "execute_result",
          "data": {
            "text/plain": [
              "1.0    652322\n",
              "2.0    143254\n",
              "9.0     32498\n",
              "7.0      5474\n",
              "5.0      2643\n",
              "8.0      2159\n",
              "3.0       861\n",
              "6.0       466\n",
              "4.0       308\n",
              "Name: surf, dtype: int64"
            ]
          },
          "metadata": {},
          "execution_count": 16
        }
      ],
      "source": [
        "df['atm'].fillna(9, inplace=True)\n",
        "df['col'].fillna(6, inplace=True)\n",
        "df['road_cat'].fillna(9, inplace=True)\n",
        "df['surf'].fillna(9, inplace=True)\n",
        "df['surf'].replace(0,9, inplace=True)\n",
        "df.surf.value_counts()"
      ]
    },
    {
      "cell_type": "code",
      "execution_count": null,
      "metadata": {
        "scrolled": true,
        "colab": {
          "base_uri": "https://localhost:8080/",
          "height": 300
        },
        "id": "UrHLhrmpkWOG",
        "outputId": "5b217ca3-f611-415a-e3da-4515ce91ecd9"
      },
      "outputs": [
        {
          "output_type": "execute_result",
          "data": {
            "text/plain": [
              "            traf_reg      num_lanes       res_lane      long_prof  \\\n",
              "count  839187.000000  838195.000000  838345.000000  838924.000000   \n",
              "mean        1.855246       2.039593       0.130675       1.135474   \n",
              "std         0.720949       1.550779       0.555434       0.620295   \n",
              "min         0.000000       0.000000       0.000000       0.000000   \n",
              "25%         2.000000       2.000000       0.000000       1.000000   \n",
              "50%         2.000000       2.000000       0.000000       1.000000   \n",
              "75%         2.000000       2.000000       0.000000       1.000000   \n",
              "max         4.000000      99.000000       3.000000       4.000000   \n",
              "\n",
              "               shape          infra      situation  \n",
              "count  838909.000000  838707.000000  838983.000000  \n",
              "mean        1.198732       0.438958       1.147201  \n",
              "std         0.722200       1.350905       0.722495  \n",
              "min         0.000000       0.000000       0.000000  \n",
              "25%         1.000000       0.000000       1.000000  \n",
              "50%         1.000000       0.000000       1.000000  \n",
              "75%         1.000000       0.000000       1.000000  \n",
              "max         4.000000       7.000000       5.000000  "
            ],
            "text/html": [
              "\n",
              "  <div id=\"df-98b02b55-7bdf-4b50-8f0b-53c0c5854c5b\">\n",
              "    <div class=\"colab-df-container\">\n",
              "      <div>\n",
              "<style scoped>\n",
              "    .dataframe tbody tr th:only-of-type {\n",
              "        vertical-align: middle;\n",
              "    }\n",
              "\n",
              "    .dataframe tbody tr th {\n",
              "        vertical-align: top;\n",
              "    }\n",
              "\n",
              "    .dataframe thead th {\n",
              "        text-align: right;\n",
              "    }\n",
              "</style>\n",
              "<table border=\"1\" class=\"dataframe\">\n",
              "  <thead>\n",
              "    <tr style=\"text-align: right;\">\n",
              "      <th></th>\n",
              "      <th>traf_reg</th>\n",
              "      <th>num_lanes</th>\n",
              "      <th>res_lane</th>\n",
              "      <th>long_prof</th>\n",
              "      <th>shape</th>\n",
              "      <th>infra</th>\n",
              "      <th>situation</th>\n",
              "    </tr>\n",
              "  </thead>\n",
              "  <tbody>\n",
              "    <tr>\n",
              "      <th>count</th>\n",
              "      <td>839187.000000</td>\n",
              "      <td>838195.000000</td>\n",
              "      <td>838345.000000</td>\n",
              "      <td>838924.000000</td>\n",
              "      <td>838909.000000</td>\n",
              "      <td>838707.000000</td>\n",
              "      <td>838983.000000</td>\n",
              "    </tr>\n",
              "    <tr>\n",
              "      <th>mean</th>\n",
              "      <td>1.855246</td>\n",
              "      <td>2.039593</td>\n",
              "      <td>0.130675</td>\n",
              "      <td>1.135474</td>\n",
              "      <td>1.198732</td>\n",
              "      <td>0.438958</td>\n",
              "      <td>1.147201</td>\n",
              "    </tr>\n",
              "    <tr>\n",
              "      <th>std</th>\n",
              "      <td>0.720949</td>\n",
              "      <td>1.550779</td>\n",
              "      <td>0.555434</td>\n",
              "      <td>0.620295</td>\n",
              "      <td>0.722200</td>\n",
              "      <td>1.350905</td>\n",
              "      <td>0.722495</td>\n",
              "    </tr>\n",
              "    <tr>\n",
              "      <th>min</th>\n",
              "      <td>0.000000</td>\n",
              "      <td>0.000000</td>\n",
              "      <td>0.000000</td>\n",
              "      <td>0.000000</td>\n",
              "      <td>0.000000</td>\n",
              "      <td>0.000000</td>\n",
              "      <td>0.000000</td>\n",
              "    </tr>\n",
              "    <tr>\n",
              "      <th>25%</th>\n",
              "      <td>2.000000</td>\n",
              "      <td>2.000000</td>\n",
              "      <td>0.000000</td>\n",
              "      <td>1.000000</td>\n",
              "      <td>1.000000</td>\n",
              "      <td>0.000000</td>\n",
              "      <td>1.000000</td>\n",
              "    </tr>\n",
              "    <tr>\n",
              "      <th>50%</th>\n",
              "      <td>2.000000</td>\n",
              "      <td>2.000000</td>\n",
              "      <td>0.000000</td>\n",
              "      <td>1.000000</td>\n",
              "      <td>1.000000</td>\n",
              "      <td>0.000000</td>\n",
              "      <td>1.000000</td>\n",
              "    </tr>\n",
              "    <tr>\n",
              "      <th>75%</th>\n",
              "      <td>2.000000</td>\n",
              "      <td>2.000000</td>\n",
              "      <td>0.000000</td>\n",
              "      <td>1.000000</td>\n",
              "      <td>1.000000</td>\n",
              "      <td>0.000000</td>\n",
              "      <td>1.000000</td>\n",
              "    </tr>\n",
              "    <tr>\n",
              "      <th>max</th>\n",
              "      <td>4.000000</td>\n",
              "      <td>99.000000</td>\n",
              "      <td>3.000000</td>\n",
              "      <td>4.000000</td>\n",
              "      <td>4.000000</td>\n",
              "      <td>7.000000</td>\n",
              "      <td>5.000000</td>\n",
              "    </tr>\n",
              "  </tbody>\n",
              "</table>\n",
              "</div>\n",
              "      <button class=\"colab-df-convert\" onclick=\"convertToInteractive('df-98b02b55-7bdf-4b50-8f0b-53c0c5854c5b')\"\n",
              "              title=\"Convert this dataframe to an interactive table.\"\n",
              "              style=\"display:none;\">\n",
              "        \n",
              "  <svg xmlns=\"http://www.w3.org/2000/svg\" height=\"24px\"viewBox=\"0 0 24 24\"\n",
              "       width=\"24px\">\n",
              "    <path d=\"M0 0h24v24H0V0z\" fill=\"none\"/>\n",
              "    <path d=\"M18.56 5.44l.94 2.06.94-2.06 2.06-.94-2.06-.94-.94-2.06-.94 2.06-2.06.94zm-11 1L8.5 8.5l.94-2.06 2.06-.94-2.06-.94L8.5 2.5l-.94 2.06-2.06.94zm10 10l.94 2.06.94-2.06 2.06-.94-2.06-.94-.94-2.06-.94 2.06-2.06.94z\"/><path d=\"M17.41 7.96l-1.37-1.37c-.4-.4-.92-.59-1.43-.59-.52 0-1.04.2-1.43.59L10.3 9.45l-7.72 7.72c-.78.78-.78 2.05 0 2.83L4 21.41c.39.39.9.59 1.41.59.51 0 1.02-.2 1.41-.59l7.78-7.78 2.81-2.81c.8-.78.8-2.07 0-2.86zM5.41 20L4 18.59l7.72-7.72 1.47 1.35L5.41 20z\"/>\n",
              "  </svg>\n",
              "      </button>\n",
              "      \n",
              "  <style>\n",
              "    .colab-df-container {\n",
              "      display:flex;\n",
              "      flex-wrap:wrap;\n",
              "      gap: 12px;\n",
              "    }\n",
              "\n",
              "    .colab-df-convert {\n",
              "      background-color: #E8F0FE;\n",
              "      border: none;\n",
              "      border-radius: 50%;\n",
              "      cursor: pointer;\n",
              "      display: none;\n",
              "      fill: #1967D2;\n",
              "      height: 32px;\n",
              "      padding: 0 0 0 0;\n",
              "      width: 32px;\n",
              "    }\n",
              "\n",
              "    .colab-df-convert:hover {\n",
              "      background-color: #E2EBFA;\n",
              "      box-shadow: 0px 1px 2px rgba(60, 64, 67, 0.3), 0px 1px 3px 1px rgba(60, 64, 67, 0.15);\n",
              "      fill: #174EA6;\n",
              "    }\n",
              "\n",
              "    [theme=dark] .colab-df-convert {\n",
              "      background-color: #3B4455;\n",
              "      fill: #D2E3FC;\n",
              "    }\n",
              "\n",
              "    [theme=dark] .colab-df-convert:hover {\n",
              "      background-color: #434B5C;\n",
              "      box-shadow: 0px 1px 3px 1px rgba(0, 0, 0, 0.15);\n",
              "      filter: drop-shadow(0px 1px 2px rgba(0, 0, 0, 0.3));\n",
              "      fill: #FFFFFF;\n",
              "    }\n",
              "  </style>\n",
              "\n",
              "      <script>\n",
              "        const buttonEl =\n",
              "          document.querySelector('#df-98b02b55-7bdf-4b50-8f0b-53c0c5854c5b button.colab-df-convert');\n",
              "        buttonEl.style.display =\n",
              "          google.colab.kernel.accessAllowed ? 'block' : 'none';\n",
              "\n",
              "        async function convertToInteractive(key) {\n",
              "          const element = document.querySelector('#df-98b02b55-7bdf-4b50-8f0b-53c0c5854c5b');\n",
              "          const dataTable =\n",
              "            await google.colab.kernel.invokeFunction('convertToInteractive',\n",
              "                                                     [key], {});\n",
              "          if (!dataTable) return;\n",
              "\n",
              "          const docLinkHtml = 'Like what you see? Visit the ' +\n",
              "            '<a target=\"_blank\" href=https://colab.research.google.com/notebooks/data_table.ipynb>data table notebook</a>'\n",
              "            + ' to learn more about interactive tables.';\n",
              "          element.innerHTML = '';\n",
              "          dataTable['output_type'] = 'display_data';\n",
              "          await google.colab.output.renderOutput(dataTable, element);\n",
              "          const docLink = document.createElement('div');\n",
              "          docLink.innerHTML = docLinkHtml;\n",
              "          element.appendChild(docLink);\n",
              "        }\n",
              "      </script>\n",
              "    </div>\n",
              "  </div>\n",
              "  "
            ]
          },
          "metadata": {},
          "execution_count": 17
        }
      ],
      "source": [
        "df[['traf_reg', 'num_lanes','res_lane', 'long_prof', 'shape', 'infra', 'situation']].describe()"
      ]
    },
    {
      "cell_type": "markdown",
      "metadata": {
        "id": "4rxSW1fPkWOG"
      },
      "source": [
        "Highlight that all features contain some 0, appart from the NaN values.\\\n",
        "Regarding the number of lanes there are several outliers. The maximum number of lanes will be limited to 6.\n",
        "Regarding the infrastructure and the existance of a reservet lane nearby, at least 75% of values are 0. These two features will be drop as to many values are unknown."
      ]
    },
    {
      "cell_type": "code",
      "execution_count": null,
      "metadata": {
        "id": "eAUVR7dGkWOG"
      },
      "outputs": [],
      "source": [
        "df.drop(['infra', 'res_lane'], axis=1, inplace=True)"
      ]
    },
    {
      "cell_type": "code",
      "execution_count": null,
      "metadata": {
        "scrolled": true,
        "colab": {
          "base_uri": "https://localhost:8080/"
        },
        "id": "5dUtu8rZkWOH",
        "outputId": "1d5e0bca-5d2c-4866-f121-6bb7c1355dd0"
      },
      "outputs": [
        {
          "output_type": "execute_result",
          "data": {
            "text/plain": [
              "2.0     464716\n",
              "0.0     102796\n",
              "1.0     101345\n",
              "4.0      76934\n",
              "3.0      66252\n",
              "6.0      13945\n",
              "5.0       7839\n",
              "8.0       2332\n",
              "7.0        840\n",
              "10.0       407\n",
              "20.0       241\n",
              "50.0       158\n",
              "9.0        148\n",
              "11.0        32\n",
              "12.0        32\n",
              "40.0        30\n",
              "30.0        27\n",
              "13.0        15\n",
              "25.0        14\n",
              "21.0        11\n",
              "26.0         9\n",
              "15.0         8\n",
              "90.0         7\n",
              "24.0         6\n",
              "14.0         6\n",
              "22.0         5\n",
              "70.0         5\n",
              "60.0         3\n",
              "31.0         3\n",
              "16.0         2\n",
              "53.0         2\n",
              "45.0         2\n",
              "27.0         2\n",
              "17.0         2\n",
              "65.0         1\n",
              "84.0         1\n",
              "39.0         1\n",
              "54.0         1\n",
              "29.0         1\n",
              "62.0         1\n",
              "99.0         1\n",
              "42.0         1\n",
              "41.0         1\n",
              "36.0         1\n",
              "44.0         1\n",
              "33.0         1\n",
              "52.0         1\n",
              "28.0         1\n",
              "91.0         1\n",
              "86.0         1\n",
              "76.0         1\n",
              "23.0         1\n",
              "18.0         1\n",
              "Name: num_lanes, dtype: int64"
            ]
          },
          "metadata": {},
          "execution_count": 19
        }
      ],
      "source": [
        "df['num_lanes'].value_counts()"
      ]
    },
    {
      "cell_type": "code",
      "execution_count": null,
      "metadata": {
        "colab": {
          "base_uri": "https://localhost:8080/"
        },
        "id": "CLctaEt2kWOH",
        "outputId": "dcf5a240-38b8-4147-fffc-722a63c4a4ed"
      },
      "outputs": [
        {
          "output_type": "execute_result",
          "data": {
            "text/plain": [
              "2.0    573670\n",
              "1.0    101345\n",
              "4.0     76934\n",
              "3.0     66252\n",
              "6.0     13945\n",
              "5.0      7839\n",
              "Name: num_lanes, dtype: int64"
            ]
          },
          "metadata": {},
          "execution_count": 20
        }
      ],
      "source": [
        "df.num_lanes.fillna(0, inplace=True)\n",
        "df['num_lanes'] = df['num_lanes'].apply(lambda x: 2 if x>6 or x==0 else x)\n",
        "df.num_lanes.value_counts()"
      ]
    },
    {
      "cell_type": "code",
      "execution_count": null,
      "metadata": {
        "scrolled": false,
        "colab": {
          "base_uri": "https://localhost:8080/",
          "height": 421
        },
        "id": "P8tV04YhkWOI",
        "outputId": "4403ca9d-575a-403b-f1ec-ab68f15f3401"
      },
      "outputs": [
        {
          "output_type": "execute_result",
          "data": {
            "text/plain": [
              "<matplotlib.legend.Legend at 0x7f78fbf4d590>"
            ]
          },
          "metadata": {},
          "execution_count": 21
        },
        {
          "output_type": "display_data",
          "data": {
            "text/plain": [
              "<Figure size 864x432 with 1 Axes>"
            ],
            "image/png": "[encoded data removed]"
          },
          "metadata": {
            "needs_background": "light"
          }
        }
      ],
      "source": [
        "df['traf_reg'].hist(alpha=0.5, rwidth=0.35, align='left', figsize=(12,6), label='traf_reg')\n",
        "df['long_prof'].hist(alpha=0.5,rwidth=0.35, align='left', label='long_prof')\n",
        "df['shape'].hist(alpha=0.5,rwidth=0.35, align='mid', label='shape')\n",
        "df['situation'].hist(alpha=0.5,rwidth=0.35, align='mid', label='situation')\n",
        "plt.title('Frequency of the values in 4 different features', size=12)\n",
        "plt.xticks(range(6))\n",
        "plt.xlabel('Value')\n",
        "plt.ylabel('Frequency')\n",
        "plt.legend()"
      ]
    },
    {
      "cell_type": "markdown",
      "metadata": {
        "id": "UcD2DfTZkWOI"
      },
      "source": [
        "Most frequent value for the traffic situation, road profile and shape is 1, while for the traffic regime is 2. "
      ]
    },
    {
      "cell_type": "code",
      "execution_count": null,
      "metadata": {
        "id": "9HRSYU5_kWOJ"
      },
      "outputs": [],
      "source": [
        "df['traf_reg'].fillna(0, inplace=True)\n",
        "df['traf_reg'] = df['traf_reg'].replace(0,2)\n",
        "\n",
        "df['long_prof'].fillna(0, inplace=True)\n",
        "df['long_prof'] = df['long_prof'].replace(0,1)\n",
        "\n",
        "df['shape'].fillna(0, inplace=True)\n",
        "df['shape'] = df['shape'].replace(0,1)\n",
        "\n",
        "df['situation'].fillna(0, inplace=True)\n",
        "df['situation'] = df['situation'].replace(0,1)"
      ]
    },
    {
      "cell_type": "code",
      "execution_count": null,
      "metadata": {
        "colab": {
          "base_uri": "https://localhost:8080/",
          "height": 298
        },
        "id": "4YnJA-vGkWOJ",
        "outputId": "73310ff5-6d21-4a27-a8bf-835ff68d700c"
      },
      "outputs": [
        {
          "output_type": "execute_result",
          "data": {
            "text/plain": [
              "Text(0.5, 1.0, 'School feature values')"
            ]
          },
          "metadata": {},
          "execution_count": 23
        },
        {
          "output_type": "display_data",
          "data": {
            "text/plain": [
              "<Figure size 432x288 with 1 Axes>"
            ],
            "image/png": "[encoded data removed]"
          },
          "metadata": {
            "needs_background": "light"
          }
        }
      ],
      "source": [
        "df.school.describe(), df.school.hist()\n",
        "plt.title('School feature values')"
      ]
    },
    {
      "cell_type": "code",
      "execution_count": null,
      "metadata": {
        "id": "Z8aMjyOSkWOJ"
      },
      "outputs": [],
      "source": [
        "df.school.fillna(0, inplace=True)\n",
        "df['school'] = df.school.apply(lambda x:1 if x>0 else 0)"
      ]
    },
    {
      "cell_type": "markdown",
      "metadata": {
        "id": "XPZG4GxQkWOK"
      },
      "source": [
        "As is described in the kaggle metadata the department feature has a 0 added to the right. I will erase this 0 so that the values range from 1 to 97."
      ]
    },
    {
      "cell_type": "code",
      "execution_count": null,
      "metadata": {
        "id": "YRjWiDPBkWOK"
      },
      "outputs": [],
      "source": [
        "df[\"dep\"] = df[\"dep\"].div(10).apply(np.floor)\n",
        "df[\"dep\"] = df[\"dep\"].astype(int)"
      ]
    },
    {
      "cell_type": "code",
      "execution_count": null,
      "metadata": {
        "colab": {
          "base_uri": "https://localhost:8080/"
        },
        "id": "c9RQ8OHjkWOK",
        "outputId": "634860c6-6d12-4b19-f8f5-dadd3c67d094"
      },
      "outputs": [
        {
          "output_type": "stream",
          "name": "stdout",
          "text": [
            "<class 'pandas.core.frame.DataFrame'>\n",
            "Int64Index: 839985 entries, 0 to 839984\n",
            "Data columns (total 24 columns):\n",
            " #   Column     Non-Null Count   Dtype  \n",
            "---  ------     --------------   -----  \n",
            " 0   ID         839985 non-null  int64  \n",
            " 1   time       839985 non-null  float64\n",
            " 2   lum        839985 non-null  int64  \n",
            " 3   agg        839985 non-null  int64  \n",
            " 4   int        839985 non-null  int64  \n",
            " 5   atm        839985 non-null  float64\n",
            " 6   col        839985 non-null  float64\n",
            " 7   dep        839985 non-null  int64  \n",
            " 8   road_cat   839985 non-null  float64\n",
            " 9   traf_reg   839985 non-null  float64\n",
            " 10  num_lanes  839985 non-null  float64\n",
            " 11  long_prof  839985 non-null  float64\n",
            " 12  shape      839985 non-null  float64\n",
            " 13  surf       839985 non-null  float64\n",
            " 14  situation  839985 non-null  float64\n",
            " 15  school     839985 non-null  int64  \n",
            " 16  crit_age   839985 non-null  int64  \n",
            " 17  ped        839985 non-null  int64  \n",
            " 18  dead_age   839985 non-null  int64  \n",
            " 19  num_us     839985 non-null  int64  \n",
            " 20  sev        839985 non-null  int64  \n",
            " 21  date       839985 non-null  object \n",
            " 22  weekend    839985 non-null  int64  \n",
            " 23  holiday    839985 non-null  float64\n",
            "dtypes: float64(11), int64(12), object(1)\n",
            "memory usage: 160.2+ MB\n"
          ]
        }
      ],
      "source": [
        "df.info()"
      ]
    },
    {
      "cell_type": "markdown",
      "metadata": {
        "id": "x-n8OFLPkWOL"
      },
      "source": [
        "# 3.EDA <a id=#eda>"
      ]
    },
    {
      "cell_type": "markdown",
      "metadata": {
        "id": "qE0ulme8kWOL"
      },
      "source": [
        "This section is aiming to gain a better understanding of the data summarizing the main characteristics as well as uncovering importan relationships of the features with the severity of an accident."
      ]
    },
    {
      "cell_type": "markdown",
      "metadata": {
        "id": "XV-OEqrVkWOL"
      },
      "source": [
        "### Target: Severity\n",
        "\n",
        "The data is almost evenly distributed on both high and low severity accidents. "
      ]
    },
    {
      "cell_type": "code",
      "execution_count": null,
      "metadata": {
        "colab": {
          "base_uri": "https://localhost:8080/",
          "height": 310
        },
        "id": "ixK27ygckWOL",
        "outputId": "8c356ff1-ab8d-4b8f-8567-dae7641f1557"
      },
      "outputs": [
        {
          "output_type": "stream",
          "name": "stdout",
          "text": [
            "Accidents classified in each level of severity:\n",
            "0    471695\n",
            "1    368290\n",
            "Name: sev, dtype: int64\n"
          ]
        },
        {
          "output_type": "display_data",
          "data": {
            "text/plain": [
              "<Figure size 288x216 with 1 Axes>"
            ],
            "image/png": "[encoded data removed]"
          },
          "metadata": {
            "needs_background": "light"
          }
        }
      ],
      "source": [
        "df.sev.plot.hist(figsize=(4,3))\n",
        "plt.title('Target feature values')\n",
        "plt.xlabel('Severity')\n",
        "plt.ylabel('Frequency')\n",
        "print('Accidents classified in each level of severity:')\n",
        "print(df.sev.value_counts())"
      ]
    },
    {
      "cell_type": "markdown",
      "metadata": {
        "id": "HBF6DO-FkWOL"
      },
      "source": [
        "### Seasonality \n",
        "\n",
        "The number of traffic accidents decreased over the years from 2005 to 2013, after which the trend became stable.\\\n",
        "Analyszing the yearly trend there is a seasonal pattern where the number of accidents increase around March and then again in September.\\\n",
        "Regarding the day of the week there is not a significant difference between them. There is a steady trend during the week with more accidents on friday, and sunday is the day with less accident of all.\\\n",
        "Lastly analyzing the accidents per hour, there are clearly two spikes, one at 8am, the time people go to work and another one between 5 and 6pm, time when people return home. The number of accidents decreases between these two spikes, nothing unusual but it proves there is a pattern here."
      ]
    },
    {
      "cell_type": "code",
      "execution_count": null,
      "metadata": {
        "colab": {
          "base_uri": "https://localhost:8080/"
        },
        "id": "_RUk8KiUkWOM",
        "outputId": "f625c2f8-3a7a-4163-abbf-ec3a59e90390"
      },
      "outputs": [
        {
          "output_type": "execute_result",
          "data": {
            "text/plain": [
              "0        2016-02-01\n",
              "1        2016-03-16\n",
              "2        2016-07-13\n",
              "3        2016-08-15\n",
              "4        2016-12-23\n",
              "            ...    \n",
              "839980   2005-12-21\n",
              "839981   2005-12-23\n",
              "839982   2005-12-26\n",
              "839983   2005-12-27\n",
              "839984   2005-12-31\n",
              "Name: date, Length: 839985, dtype: datetime64[ns]"
            ]
          },
          "metadata": {},
          "execution_count": 28
        }
      ],
      "source": [
        "df['date'] = pd.to_datetime(df['date'], format='%Y-%m-%d')\n",
        "date = df[['ID','sev', 'date']]\n",
        "date.date"
      ]
    },
    {
      "cell_type": "code",
      "execution_count": null,
      "metadata": {
        "colab": {
          "base_uri": "https://localhost:8080/",
          "height": 629
        },
        "id": "csbqY7g_kWOM",
        "outputId": "46200a60-2497-45d7-a4d0-2491b9dfb150"
      },
      "outputs": [
        {
          "output_type": "display_data",
          "data": {
            "text/plain": [
              "<Figure size 1440x720 with 1 Axes>"
            ],
            "image/png": "[encoded data removed]"
          },
          "metadata": {
            "needs_background": "light"
          }
        }
      ],
      "source": [
        "#Seasonality\n",
        "\n",
        "\n",
        "date['year'] = df.date.dt.year\n",
        "date['month'] = df.date.dt.month\n",
        "date['weekday'] = df.date.dt.weekday\n",
        "high_sev = date[date['sev']==1]\n",
        "\n",
        "season = date[['date', 'ID']].groupby('date').count()\n",
        "season['rolling'] = season.ID.rolling(window=30).mean()\n",
        "season['ID'][365*8:].plot(figsize=(20,10), marker='o', markersize=2, linewidth=0.5, label='Daily trend')\n",
        "season['rolling'][365*8:].plot(color='r', linewidth=2, label='Rolling mean')\n",
        "plt.title('Daily accidents, years: 2013, 2014, 2015 and 2016', size=18)\n",
        "plt.xlabel('Day', size=14)\n",
        "plt.ylabel('Accidents', size=14)\n",
        "\n",
        "t0 = dt.datetime.strptime('2012-12-15', '%Y-%m-%d')\n",
        "t1 = dt.datetime.strptime('2017-01-15', '%Y-%m-%d')\n",
        "\n",
        "plt.xlim(t0,t1)\n",
        "plt.legend()\n",
        "plt.show()"
      ]
    },
    {
      "cell_type": "code",
      "execution_count": null,
      "metadata": {
        "colab": {
          "base_uri": "https://localhost:8080/",
          "height": 312
        },
        "id": "huVEf6fJkWOM",
        "outputId": "afb7fc3c-5c75-42b2-ed1a-bdfcf29b97b7"
      },
      "outputs": [
        {
          "output_type": "execute_result",
          "data": {
            "text/plain": [
              "<matplotlib.legend.Legend at 0x7f78fb84d310>"
            ]
          },
          "metadata": {},
          "execution_count": 30
        },
        {
          "output_type": "display_data",
          "data": {
            "text/plain": [
              "<Figure size 720x288 with 1 Axes>"
            ],
            "image/png": "[encoded data removed]"
          },
          "metadata": {
            "needs_background": "light"
          }
        }
      ],
      "source": [
        "#By year\n",
        "\n",
        "yearly = date[['year', 'ID']].groupby('year').count()\n",
        "yearly['ID'].plot.line(figsize=(10,4), marker='o', linewidth=0.5, color='orange', label='Total')\n",
        "plt.title('Accidents per year')\n",
        "plt.xticks(range(2005,2017))\n",
        "plt.xlim(2004,2017)\n",
        "plt.ylabel('Accidents')\n",
        "plt.legend()"
      ]
    },
    {
      "cell_type": "code",
      "execution_count": null,
      "metadata": {
        "scrolled": false,
        "colab": {
          "base_uri": "https://localhost:8080/",
          "height": 478
        },
        "id": "reC6knuLkWON",
        "outputId": "90e12424-f57c-46c1-9391-68fc316e6824"
      },
      "outputs": [
        {
          "output_type": "execute_result",
          "data": {
            "text/plain": [
              "<matplotlib.legend.Legend at 0x7f78fa78dad0>"
            ]
          },
          "metadata": {},
          "execution_count": 31
        },
        {
          "output_type": "display_data",
          "data": {
            "text/plain": [
              "<Figure size 1008x504 with 1 Axes>"
            ],
            "image/png": "[encoded data removed]"
          },
          "metadata": {
            "needs_background": "light"
          }
        }
      ],
      "source": [
        "#By month\n",
        "\n",
        "monthly = date[['month', 'ID']].groupby(['month']).count()\n",
        "monthly['high_sev'] = high_sev[['month', 'ID']].groupby(['month']).count()\n",
        "\n",
        "\n",
        "monthly['ID'].plot.bar(figsize=(14,7), alpha=0.5, color='g', label='Total accidents')\n",
        "monthly['high_sev'].plot.bar(color='r', label='Severe')\n",
        "\n",
        "plt.title('Accidents per month from 2005 to 2016')\n",
        "plt.xticks(range(13))\n",
        "plt.xlim(-1,12)\n",
        "# plt.ylim(50000,85000)\n",
        "plt.xlabel('Month')\n",
        "plt.ylabel('Accidents')\n",
        "plt.legend()"
      ]
    },
    {
      "cell_type": "code",
      "execution_count": null,
      "metadata": {
        "colab": {
          "base_uri": "https://localhost:8080/",
          "height": 309
        },
        "id": "w0BSqt3LkWON",
        "outputId": "0f57de8f-8fa0-4991-da83-22d431992f6c"
      },
      "outputs": [
        {
          "output_type": "execute_result",
          "data": {
            "text/plain": [
              "<matplotlib.legend.Legend at 0x7f78fa6ce610>"
            ]
          },
          "metadata": {},
          "execution_count": 32
        },
        {
          "output_type": "display_data",
          "data": {
            "text/plain": [
              "<Figure size 576x288 with 1 Axes>"
            ],
            "image/png": "[encoded data removed]"
          },
          "metadata": {
            "needs_background": "light"
          }
        }
      ],
      "source": [
        "#By day of the week\n",
        "\n",
        "weekday = date[['weekday', 'ID']].groupby('weekday').count()\n",
        "weekday['high_sev'] = high_sev[['weekday', 'ID']].groupby(['weekday']).count()\n",
        "weekday['ID'].plot.bar(figsize=(8,4), alpha=0.7, color='g', label='Total')\n",
        "weekday['high_sev'].plot.bar(color='r', label='Severe')\n",
        "\n",
        "plt.title('Accidents per day of the week from 2005 to 2016')\n",
        "plt.xticks(range(7))\n",
        "plt.xlim(-1,7)\n",
        "# plt.ylim(75000,150000)\n",
        "plt.xlabel('Weekday')\n",
        "plt.ylabel('Accidents')\n",
        "plt.legend()"
      ]
    },
    {
      "cell_type": "markdown",
      "metadata": {
        "id": "uUwpH1l6kWON"
      },
      "source": [
        "The trend of highly severe accidents is proportional to the global trend, for both the accidents divided per month of the year and per day of the week."
      ]
    },
    {
      "cell_type": "code",
      "execution_count": null,
      "metadata": {
        "scrolled": false,
        "colab": {
          "base_uri": "https://localhost:8080/",
          "height": 433
        },
        "id": "DRQTM8NIkWON",
        "outputId": "66bd2617-9f65-4ef2-fdc9-fd1961b7d637"
      },
      "outputs": [
        {
          "output_type": "execute_result",
          "data": {
            "text/plain": [
              "839985"
            ]
          },
          "metadata": {},
          "execution_count": 33
        },
        {
          "output_type": "display_data",
          "data": {
            "text/plain": [
              "<Figure size 864x432 with 1 Axes>"
            ],
            "image/png": "[encoded data removed]"
          },
          "metadata": {
            "needs_background": "light"
          }
        }
      ],
      "source": [
        "#By hour of the day\n",
        "\n",
        "hourly = df[['ID', 'time']].groupby('time').count()\n",
        "hourly['high_sev'] = df[df.sev==1][['ID', 'time']].groupby('time').count()\n",
        "hourly['ID'].plot.bar(figsize=(12,6), alpha=0.7, color='g', label='Total')\n",
        "hourly['high_sev'].plot.bar(color='r', label='Severe')\n",
        "plt.xticks(range(24))\n",
        "plt.title('Accidents per hour from 2005 to 2016')\n",
        "plt.xlabel('Hour of the day')\n",
        "plt.ylabel('Frequency of accidents')\n",
        "plt.legend()\n",
        "# df.time.value_counts()\n",
        "# hourly.ID.value_counts()\n",
        "hourly['ID'].sum()"
      ]
    },
    {
      "cell_type": "code",
      "execution_count": null,
      "metadata": {
        "colab": {
          "base_uri": "https://localhost:8080/",
          "height": 433
        },
        "id": "looU0nvDkWOO",
        "outputId": "e1b27304-63a0-4bae-ddeb-e32db379bae9"
      },
      "outputs": [
        {
          "output_type": "execute_result",
          "data": {
            "text/plain": [
              "<matplotlib.legend.Legend at 0x7f78f9f35b90>"
            ]
          },
          "metadata": {},
          "execution_count": 34
        },
        {
          "output_type": "display_data",
          "data": {
            "text/plain": [
              "<Figure size 864x432 with 1 Axes>"
            ],
            "image/png": "[encoded data removed]"
          },
          "metadata": {
            "needs_background": "light"
          }
        }
      ],
      "source": [
        "#Zoom in fatal accidents by hour of the day\n",
        "\n",
        "hourly['high_sev'].plot.bar(figsize=(12,6),color='r', label='Fatal')\n",
        "plt.xticks(range(24))\n",
        "plt.ylim((0,35000))\n",
        "plt.title('Fatal accidents per hour from 2005 to 2016')\n",
        "plt.xlabel('Hour of the day')\n",
        "plt.ylabel('Frequency of accidents')\n",
        "plt.legend()"
      ]
    },
    {
      "cell_type": "markdown",
      "metadata": {
        "id": "_NvtRXqikWOO"
      },
      "source": [
        "Same as for the monthly and weekly trends, zooming on the amount of highly severe accidents by hour of the day we have quite a simliar shape as for the total amount of accidents. One aspect to highlight from the hourly trend is that the proportion of severe accidents from noon to morning is higher. "
      ]
    },
    {
      "cell_type": "code",
      "execution_count": null,
      "metadata": {
        "colab": {
          "base_uri": "https://localhost:8080/"
        },
        "id": "vLrwFnLjkWOO",
        "outputId": "903d165f-b62c-4f17-d638-a4f34c270335"
      },
      "outputs": [
        {
          "output_type": "stream",
          "name": "stdout",
          "text": [
            "The percentage of severe accidents from 9pm to 6am is 50.67% of the total amount of accidents ocurring between this hours,     while the percentage of deathly accidents from 7am to 8pm is 42.41%.\n"
          ]
        }
      ],
      "source": [
        "noon_morn_severe = hourly.high_sev.loc[0:6].sum()+hourly.high_sev.loc[21:23].sum()\n",
        "day_severe = hourly.high_sev.loc[7:20].sum()\n",
        "noon_morn = hourly.ID.loc[0:6].sum()+hourly.ID.loc[21:23].sum()\n",
        "day = hourly.ID.loc[7:20].sum()\n",
        "noon_morn_prop = (noon_morn_severe/noon_morn)*100\n",
        "day_prop = (day_severe/day)*100\n",
        "print('The percentage of severe accidents from 9pm to 6am is {0:0.2f}% of the total amount of accidents ocurring between this hours,\\\n",
        "     while the percentage of deathly accidents from 7am to 8pm is {1:2.2f}%.'.format(noon_morn_prop.round(2), day_prop))"
      ]
    },
    {
      "cell_type": "code",
      "execution_count": null,
      "metadata": {
        "id": "XrjMw46HkWOP"
      },
      "outputs": [],
      "source": [
        "df['month'] = df.date.dt.month\n",
        "df['day'] = df.date.dt.day"
      ]
    },
    {
      "cell_type": "code",
      "execution_count": null,
      "metadata": {
        "colab": {
          "base_uri": "https://localhost:8080/"
        },
        "id": "2rrEQMwckWOP",
        "outputId": "06530dc1-3905-4904-fb22-90df6ed8b50b"
      },
      "outputs": [
        {
          "output_type": "execute_result",
          "data": {
            "text/plain": [
              "<bound method IndexOpsMixin.value_counts of 0          1\n",
              "1         16\n",
              "2         13\n",
              "3         15\n",
              "4         23\n",
              "          ..\n",
              "839980    21\n",
              "839981    23\n",
              "839982    26\n",
              "839983    27\n",
              "839984    31\n",
              "Name: day, Length: 839985, dtype: int64>"
            ]
          },
          "metadata": {},
          "execution_count": 37
        }
      ],
      "source": [
        "df.day.value_counts"
      ]
    },
    {
      "cell_type": "markdown",
      "metadata": {
        "id": "wzVLDH9wkWOP"
      },
      "source": [
        "### Correlation"
      ]
    },
    {
      "cell_type": "code",
      "execution_count": null,
      "metadata": {
        "scrolled": false,
        "colab": {
          "base_uri": "https://localhost:8080/"
        },
        "id": "ic3BLf6FkWOP",
        "outputId": "1847b8ff-4a74-4bca-d234-1a879587f358"
      },
      "outputs": [
        {
          "output_type": "execute_result",
          "data": {
            "text/plain": [
              "sev          1.000000\n",
              "shape        0.144514\n",
              "situation    0.128954\n",
              "weekend      0.077594\n",
              "traf_reg     0.076691\n",
              "long_prof    0.069781\n",
              "dead_age     0.048087\n",
              "atm          0.048012\n",
              "num_us       0.027533\n",
              "col          0.026740\n",
              "holiday      0.021744\n",
              "month        0.008851\n",
              "lum          0.002701\n",
              "day          0.002161\n",
              "surf         0.000874\n",
              "ped         -0.005999\n",
              "school      -0.025260\n",
              "crit_age    -0.038168\n",
              "int         -0.062982\n",
              "road_cat    -0.100728\n",
              "num_lanes   -0.101300\n",
              "dep         -0.105883\n",
              "agg         -0.277563\n",
              "Name: sev, dtype: float64"
            ]
          },
          "metadata": {},
          "execution_count": 38
        }
      ],
      "source": [
        "df[['sev','lum', 'agg', 'int', 'atm',\n",
        "    'col', 'dep', 'road_cat', 'traf_reg',\n",
        "    'num_lanes', 'long_prof', 'shape', 'surf', \n",
        "    'situation', 'school', 'crit_age','dead_age', 'ped',\n",
        "    'num_us', 'weekend', 'holiday', 'month', 'day']].corr()['sev'].sort_values(ascending=False)"
      ]
    },
    {
      "cell_type": "code",
      "execution_count": null,
      "metadata": {
        "scrolled": true,
        "id": "xugUinhYkWOQ"
      },
      "outputs": [],
      "source": [
        "bins = np.linspace(df.atm.min(), df.atm.max(), 10)\n",
        "g = sns.FacetGrid(df, col=\"crit_age\", hue=\"sev\", palette=\"Set1\", col_wrap=2)\n",
        "g.map(plt.hist,'road_cat', bins=bins, ec=\"k\")\n",
        "g.axes[-1].legend()\n",
        "plt.show()"
      ]
    },
    {
      "cell_type": "code",
      "execution_count": null,
      "metadata": {
        "id": "WbgOr6ydkWOQ"
      },
      "outputs": [],
      "source": [
        "bins = np.linspace(df.lum.min(), df.lum.max(), 10)\n",
        "g = sns.FacetGrid(df, col=\"crit_age\", hue=\"sev\", palette=\"Set1\", col_wrap=2)\n",
        "g.map(plt.hist, 'num_us', bins=bins, ec=\"k\")\n",
        "g.axes[-1].legend()\n",
        "plt.show()"
      ]
    },
    {
      "cell_type": "code",
      "execution_count": null,
      "metadata": {
        "id": "wlSw3P6LkWOQ"
      },
      "outputs": [],
      "source": [
        "bins = np.linspace(df.col.min(), df.col.max(), 10)\n",
        "g = sns.FacetGrid(df, col=\"crit_age\", hue=\"sev\", palette=\"Set1\", col_wrap=2)\n",
        "g.map(plt.hist, 'col', bins=bins, ec=\"k\")\n",
        "g.axes[-1].legend()\n",
        "plt.show()"
      ]
    },
    {
      "cell_type": "code",
      "execution_count": null,
      "metadata": {
        "id": "Mgl3GDP1kWOQ"
      },
      "outputs": [],
      "source": [
        "bins = np.linspace(df.surf.min(), df.surf.max(), 10)\n",
        "g = sns.FacetGrid(df, col=\"crit_age\", hue=\"sev\", palette=\"Set1\", col_wrap=2)\n",
        "g.map(plt.hist, 'surf', bins=bins, ec=\"k\")\n",
        "g.axes[-1].legend()\n",
        "plt.show()"
      ]
    },
    {
      "cell_type": "code",
      "execution_count": null,
      "metadata": {
        "id": "0e9yrbwQkWOR"
      },
      "outputs": [],
      "source": [
        "df['sev'][df['dead_age']==1].plot.hist(color='r')\n",
        "# plt.xlabel('Hour of the day')\n",
        "plt.title('Accident severity for poeple above 84 y.o.')\n",
        "plt.xlabel('Severity')"
      ]
    },
    {
      "cell_type": "code",
      "execution_count": null,
      "metadata": {
        "scrolled": true,
        "id": "pqYrVDtYkWOR"
      },
      "outputs": [],
      "source": [
        "df['sev'][df['dead_age']==0].plot.hist()\n",
        "plt.title('Accident severity for poeple under 84 y.o.')\n",
        "plt.xlabel('Severity')"
      ]
    },
    {
      "cell_type": "markdown",
      "metadata": {
        "id": "jmAQaf9vkWOR"
      },
      "source": [
        "From the correlation of each feature individualy with the severity, there is not a significant correlation in any of the cases. However, from the plots above we can say that gathering together some combinations of the features, these combinations could be classified in the different severity categories."
      ]
    },
    {
      "cell_type": "markdown",
      "metadata": {
        "id": "ILgA3hRNkWOR"
      },
      "source": [
        "# 4. Data Preparation <a id=prep>\n",
        "    \n",
        " Step right before the model development. The data preparation consists on the normalization and the train/test/validation split.\n",
        " Also the models I will use to predict the severity of an accident do not handel categorical variables so date some features will be dropped for now."
      ]
    },
    {
      "cell_type": "code",
      "execution_count": null,
      "metadata": {
        "id": "JsvbBauRkWOR"
      },
      "outputs": [],
      "source": [
        "df.drop(['ID', 'date'], axis=1, inplace=True)"
      ]
    },
    {
      "cell_type": "code",
      "execution_count": null,
      "metadata": {
        "colab": {
          "base_uri": "https://localhost:8080/"
        },
        "id": "pI-acb8ckWOS",
        "outputId": "b2784ce1-f29a-4b2c-d8d8-8b7a95d05c74"
      },
      "outputs": [
        {
          "output_type": "stream",
          "name": "stdout",
          "text": [
            "Size of training set: 537590 \n",
            "Size of test set: 167997 \n",
            "Size of evaluation set: 134398\n"
          ]
        }
      ],
      "source": [
        "#Some feature's values range from 1 to 9 while others just go either for 1 or 2, \n",
        "#Normalizing the data makes that any feature has more influence in the result than others.\n",
        "\n",
        "from sklearn.preprocessing import StandardScaler\n",
        "from sklearn.model_selection import train_test_split\n",
        "\n",
        "# X = df.drop('sev', axis=1)\n",
        "# X = StandardScaler().fit(X).transform(X)\n",
        "\n",
        "xtrain, xtest, ytrain, ytest = train_test_split(df.drop('sev', axis=1), df['sev'], test_size=0.2, random_state=8)\n",
        "xtrain, xval, ytrain, yval = train_test_split(xtrain, ytrain, test_size=0.2) \n",
        "\n",
        "\n",
        "print('Size of training set:', xtrain.shape[0],'\\n'\n",
        "      'Size of test set:',xtest.shape[0],'\\n'\n",
        "      'Size of evaluation set:', xval.shape[0])\n"
      ]
    },
    {
      "cell_type": "code",
      "source": [
        "xval.info()"
      ],
      "metadata": {
        "colab": {
          "base_uri": "https://localhost:8080/"
        },
        "id": "u3MRVTgKImsW",
        "outputId": "04ff9b67-47ab-4707-9a91-6c18ee459707"
      },
      "execution_count": null,
      "outputs": [
        {
          "output_type": "stream",
          "name": "stdout",
          "text": [
            "<class 'pandas.core.frame.DataFrame'>\n",
            "Int64Index: 134398 entries, 836825 to 785584\n",
            "Data columns (total 23 columns):\n",
            " #   Column     Non-Null Count   Dtype  \n",
            "---  ------     --------------   -----  \n",
            " 0   time       134398 non-null  float64\n",
            " 1   lum        134398 non-null  int64  \n",
            " 2   agg        134398 non-null  int64  \n",
            " 3   int        134398 non-null  int64  \n",
            " 4   atm        134398 non-null  float64\n",
            " 5   col        134398 non-null  float64\n",
            " 6   dep        134398 non-null  int64  \n",
            " 7   road_cat   134398 non-null  float64\n",
            " 8   traf_reg   134398 non-null  float64\n",
            " 9   num_lanes  134398 non-null  float64\n",
            " 10  long_prof  134398 non-null  float64\n",
            " 11  shape      134398 non-null  float64\n",
            " 12  surf       134398 non-null  float64\n",
            " 13  situation  134398 non-null  float64\n",
            " 14  school     134398 non-null  int64  \n",
            " 15  crit_age   134398 non-null  int64  \n",
            " 16  ped        134398 non-null  int64  \n",
            " 17  dead_age   134398 non-null  int64  \n",
            " 18  num_us     134398 non-null  int64  \n",
            " 19  weekend    134398 non-null  int64  \n",
            " 20  holiday    134398 non-null  float64\n",
            " 21  month      134398 non-null  int64  \n",
            " 22  day        134398 non-null  int64  \n",
            "dtypes: float64(11), int64(12)\n",
            "memory usage: 24.6 MB\n"
          ]
        }
      ]
    },
    {
      "cell_type": "code",
      "source": [
        "ytest"
      ],
      "metadata": {
        "colab": {
          "base_uri": "https://localhost:8080/"
        },
        "id": "ubbihBl9HKp5",
        "outputId": "ae8447ce-f8be-4971-e17f-740c4ecbc73d"
      },
      "execution_count": null,
      "outputs": [
        {
          "output_type": "execute_result",
          "data": {
            "text/plain": [
              "701736    1\n",
              "737552    1\n",
              "517331    1\n",
              "508704    1\n",
              "798850    0\n",
              "         ..\n",
              "790396    0\n",
              "409873    1\n",
              "236513    1\n",
              "720706    0\n",
              "417930    0\n",
              "Name: sev, Length: 167997, dtype: int64"
            ]
          },
          "metadata": {},
          "execution_count": 48
        }
      ]
    },
    {
      "cell_type": "code",
      "source": [],
      "metadata": {
        "id": "URbWw-FXIlcj"
      },
      "execution_count": null,
      "outputs": []
    },
    {
      "cell_type": "markdown",
      "metadata": {
        "id": "CLf9NqazkWOS"
      },
      "source": [
        "# 5. Model Develoment <a id='modeling'>"
      ]
    },
    {
      "cell_type": "code",
      "execution_count": null,
      "metadata": {
        "id": "H0m-ofgZkWOS"
      },
      "outputs": [],
      "source": [
        "#importing models \n",
        "\n",
        "from sklearn.tree import DecisionTreeClassifier\n",
        "from sklearn.ensemble import RandomForestClassifier\n",
        "from sklearn.linear_model import LogisticRegression\n",
        "from sklearn.neighbors import KNeighborsClassifier\n",
        "from sklearn.svm import SVC\n",
        "\n",
        "#Evaluation Metrics\n",
        "import time\n",
        "from sklearn.metrics import accuracy_score, log_loss, jaccard_score, classification_report\n",
        "from sklearn.metrics import precision_score, recall_score, roc_curve"
      ]
    },
    {
      "cell_type": "code",
      "source": [],
      "metadata": {
        "id": "A8y95F7eMPcl"
      },
      "execution_count": null,
      "outputs": []
    },
    {
      "cell_type": "markdown",
      "metadata": {
        "id": "ahTQImSWkWOS"
      },
      "source": [
        "### 1. Decision Tree"
      ]
    },
    {
      "cell_type": "code",
      "execution_count": null,
      "metadata": {
        "colab": {
          "base_uri": "https://localhost:8080/"
        },
        "id": "LbnJyibXkWOS",
        "outputId": "17985095-bed3-4699-b3e9-0e88b359f975"
      },
      "outputs": [
        {
          "output_type": "stream",
          "name": "stdout",
          "text": [
            "Time taken : 6.125949144363403\n",
            "Accuracy : 0.6356791023675947\n"
          ]
        }
      ],
      "source": [
        "t0=time.time()\n",
        "tree = DecisionTreeClassifier(criterion='entropy')\n",
        "tree.fit(xtrain,ytrain)\n",
        "print('Time taken :' , time.time()-t0)\n",
        "yhat = tree.predict(xval)\n",
        "score_tree = accuracy_score(yval,yhat)\n",
        "print('Accuracy :',score_tree)"
      ]
    },
    {
      "cell_type": "markdown",
      "metadata": {
        "id": "CPGfINS2kWOT"
      },
      "source": [
        "### 1.1. Random Forest\n",
        "To go a bit further I will develop a Random Forest model. A random forest fits a number of **decision tree** classifiers on various sub-samples of the dataset and uses averaging to improve the predictive accuracy and control over-fitting. The number of decision trees is specified with the `n_estimators` parameter.\\\n",
        "An upside of this algorithm is its `feature_importances_` atribut, it returns the impurity based feature importance."
      ]
    },
    {
      "cell_type": "code",
      "source": [
        "xtrain"
      ],
      "metadata": {
        "id": "lpbFsCO8nvoj"
      },
      "execution_count": null,
      "outputs": []
    },
    {
      "cell_type": "code",
      "execution_count": null,
      "metadata": {
        "id": "5ugtwptnkWOT"
      },
      "outputs": [],
      "source": [
        "#RF 1\n",
        "\n",
        "t0=time.time()\n",
        "model_rf = RandomForestClassifier(n_estimators=100,criterion='entropy',random_state=0, n_jobs=-1)\n",
        "model_rf.fit(xtrain,ytrain)\n",
        "print('Time taken :' , time.time()-t0)\n",
        "yhat = model_rf.predict(xval)\n",
        "score_rf = accuracy_score(yval,yhat)\n",
        "print('Accuracy :',score_rf)"
      ]
    },
    {
      "cell_type": "code",
      "execution_count": null,
      "metadata": {
        "id": "DBGDD01GkWOT"
      },
      "outputs": [],
      "source": [
        "importances = pd.DataFrame({'feature':df.drop('sev', axis=1).columns,'importance':np.round(model_rf.feature_importances_,3)})\n",
        "importances = importances.sort_values('importance',ascending=False).set_index('feature')\n",
        "importances"
      ]
    },
    {
      "cell_type": "markdown",
      "metadata": {
        "id": "Z9EA_nL3kWOT"
      },
      "source": [
        "The goal will now be to improve the accuracy and running time of the model thanks to feature selection and hyperparameter tuning. So I will drop the 10 least important features and run the model again."
      ]
    },
    {
      "cell_type": "code",
      "execution_count": null,
      "metadata": {
        "id": "KZbRffqokWOT"
      },
      "outputs": [],
      "source": [
        "xtrain = pd.DataFrame(xtrain)\n",
        "xtrain.drop(['dead_age', 'holiday', 'ped', 'situation', 'weekend', 'school', 'shape', 'crit_age', 'surf', 'long_prof','lum','atm'], axis=1, inplace=True)\n",
        "xval.drop(['dead_age', 'holiday', 'ped', 'situation', 'weekend', 'school', 'shape', 'crit_age', 'surf', 'long_prof', 'lum', 'atm'], axis=1, inplace=True)\n",
        "xtest.drop(['dead_age', 'holiday', 'ped', 'situation', 'weekend', 'school', 'shape', 'crit_age','surf', 'long_prof', 'lum', 'atm'], axis=1, inplace=True)"
      ]
    },
    {
      "cell_type": "code",
      "execution_count": null,
      "metadata": {
        "id": "Y3lfMgrFkWOU"
      },
      "outputs": [],
      "source": [
        "#RF 2:\n",
        "#number of features reduced from 23 to 13\n",
        "\n",
        "t0=time.time()\n",
        "model_rf = RandomForestClassifier(n_estimators=100,criterion='entropy',random_state=0, n_jobs=-1)\n",
        "model_rf.fit(xtrain,ytrain)\n",
        "print('Time taken :' , time.time()-t0)\n",
        "yhat = model_rf.predict(xval)\n",
        "score_rf = accuracy_score(yval,yhat)\n",
        "print('Accuracy :',score_rf)"
      ]
    },
    {
      "cell_type": "code",
      "execution_count": null,
      "metadata": {
        "id": "qQaUJPInkWOU"
      },
      "outputs": [],
      "source": [
        "#RF 3:\n",
        "\n",
        "#number of decision trees reduced from 100 to 50\n",
        "#Limiting the number of features to look at when creating the next split to 5\n",
        "#Limiting the max depth of the tree to 10\n",
        "\n",
        "\n",
        "t0=time.time()\n",
        "model_rf = RandomForestClassifier(n_estimators=50, max_features=5, max_depth =10 ,criterion='entropy',random_state=0, n_jobs=-1)\n",
        "model_rf.fit(xtrain,ytrain)\n",
        "print('Time taken :' , time.time()-t0)\n",
        "yhat = model_rf.predict(xval)\n",
        "score_rf = accuracy_score(yval,yhat)\n",
        "print('Accuracy :',score_rf)"
      ]
    },
    {
      "cell_type": "code",
      "execution_count": null,
      "metadata": {
        "id": "xRFlI5i2kWOU"
      },
      "outputs": [],
      "source": [
        "#RF 4:\n",
        "\n",
        "#number of decision trees reduced from 50 to 10\n",
        "#Limiting the number of features to look at when creating the next split to 8\n",
        "#Limiting the max depth of the tree to 12\n",
        "\n",
        "\n",
        "t0=time.time()\n",
        "model_rf = RandomForestClassifier(n_estimators=10, max_features=8, max_depth =12,criterion='entropy',random_state=0, n_jobs=-1)\n",
        "model_rf.fit(xtrain,ytrain)\n",
        "print('Time taken :' , time.time()-t0)\n",
        "yhat = model_rf.predict(xval)\n",
        "score_rf = accuracy_score(yval,yhat)\n",
        "print('Accuracy :',score_rf)"
      ]
    },
    {
      "cell_type": "code",
      "source": [
        "yval"
      ],
      "metadata": {
        "id": "Oh7YVIstzvPx"
      },
      "execution_count": null,
      "outputs": []
    },
    {
      "cell_type": "code",
      "source": [
        "xval"
      ],
      "metadata": {
        "id": "hCIXasfVwFJG"
      },
      "execution_count": null,
      "outputs": []
    },
    {
      "cell_type": "code",
      "execution_count": null,
      "metadata": {
        "id": "AzsOUagvkWOU",
        "colab": {
          "base_uri": "https://localhost:8080/"
        },
        "outputId": "ec7b2069-7be7-43c7-9158-a5ac51c5d043"
      },
      "outputs": [
        {
          "output_type": "stream",
          "name": "stdout",
          "text": [
            "Time taken : 11.935753345489502\n",
            "Jaccard : 0.4713306238249102 \n",
            "               precision    recall  f1-score   support\n",
            "\n",
            "           0       0.71      0.84      0.77     94297\n",
            "           1       0.73      0.57      0.64     73700\n",
            "\n",
            "    accuracy                           0.72    167997\n",
            "   macro avg       0.72      0.70      0.71    167997\n",
            "weighted avg       0.72      0.72      0.71    167997\n",
            "\n"
          ]
        }
      ],
      "source": [
        "#Evaluation\n",
        "\n",
        "t0=time.time()\n",
        "model_rf = RandomForestClassifier(n_estimators=10, max_features=8, max_depth =12,criterion='entropy',random_state=0, n_jobs=-1)\n",
        "model_rf.fit(xtrain,ytrain)\n",
        "t_rf = time.time()-t0\n",
        "print('Time taken :' , t_rf)\n",
        "yhat_rf = model_rf.predict(xtest)\n",
        "jaccard_rf = jaccard_score(ytest,yhat_rf)\n",
        "c_rf = classification_report(ytest,yhat_rf)\n",
        "prec_rf = precision_score(ytest, yhat_rf)\n",
        "rec_rf = recall_score(ytest, yhat_rf)\n",
        "print('Jaccard :',jaccard_rf,'\\n',\n",
        "     c_rf)"
      ]
    },
    {
      "cell_type": "markdown",
      "metadata": {
        "id": "fstn4rZykWOV"
      },
      "source": [
        "The last model has equaled the computational time of the Decision Tree model improving the accuracy from 0.63 to 0.72."
      ]
    },
    {
      "cell_type": "markdown",
      "metadata": {
        "id": "iy-Z_ssXkWOV"
      },
      "source": [
        "### 2. LogisticRegression"
      ]
    },
    {
      "cell_type": "markdown",
      "metadata": {
        "id": "PzFSygkvkWOV"
      },
      "source": [
        "First I'll look for the best regularization coeficient then I creat the model."
      ]
    },
    {
      "cell_type": "code",
      "execution_count": null,
      "metadata": {
        "id": "9UeI2dETkWOV",
        "colab": {
          "base_uri": "https://localhost:8080/"
        },
        "outputId": "4f02dbc7-ce46-4b24-e95b-3ad10842382f"
      },
      "outputs": [
        {
          "output_type": "execute_result",
          "data": {
            "text/plain": [
              "array([0.66918407, 0.66916174, 0.6693924 , 0.66926591, 0.66919151,\n",
              "       0.66921383])"
            ]
          },
          "metadata": {},
          "execution_count": 52
        }
      ],
      "source": [
        "acc=np.zeros(6)\n",
        "i=0\n",
        "for c in [0.5, 0.1, 0.01, 0.001, 10, 100]:\n",
        "    lr = LogisticRegression(C=c, solver='liblinear').fit(xtrain, ytrain)\n",
        "    yhat = lr.predict(xval)\n",
        "    acc[i] = accuracy_score(yval,yhat)\n",
        "    i+=1\n",
        "acc"
      ]
    },
    {
      "cell_type": "code",
      "execution_count": null,
      "metadata": {
        "id": "3P8FOMLakWOV",
        "colab": {
          "base_uri": "https://localhost:8080/"
        },
        "outputId": "4061ca7a-19c3-4e95-bd1e-93c51a965280"
      },
      "outputs": [
        {
          "output_type": "stream",
          "name": "stdout",
          "text": [
            "Time taken : 9.078979253768921\n",
            "Jaccard : 0.4007890486977445 \n",
            "               precision    recall  f1-score   support\n",
            "\n",
            "           0       0.67      0.80      0.73     94297\n",
            "           1       0.67      0.50      0.57     73700\n",
            "\n",
            "    accuracy                           0.67    167997\n",
            "   macro avg       0.67      0.65      0.65    167997\n",
            "weighted avg       0.67      0.67      0.66    167997\n",
            "\n"
          ]
        }
      ],
      "source": [
        "#Evaluation\n",
        "\n",
        "t0=time.time()\n",
        "lr = LogisticRegression(C=0.001, solver='liblinear').fit(xtrain, ytrain)\n",
        "t_lr = time.time()-t0\n",
        "print('Time taken :' , t_lr)\n",
        "yhat = lr.predict(xtest)\n",
        "jaccard_lr = jaccard_score(ytest,yhat)\n",
        "c_lr = classification_report(ytest,yhat)\n",
        "prec_lr = precision_score(ytest, yhat)\n",
        "rec_lr = recall_score(ytest, yhat)\n",
        "print('Jaccard :',jaccard_lr,'\\n',\n",
        "     c_lr)"
      ]
    },
    {
      "cell_type": "markdown",
      "metadata": {
        "id": "sjfbzROCkWOW"
      },
      "source": [
        "### 3. KNN\n",
        "\n",
        "Firstly I will search for the best performing K and then I will fit the model with the training set and evaluat it with the test set.  \n",
        "Due to the size of the dataset, I will reduce the training and evaluation sets to the half of them in the process of searching for the optim K."
      ]
    },
    {
      "cell_type": "code",
      "execution_count": null,
      "metadata": {
        "id": "mYtXt7PNkWOW",
        "colab": {
          "base_uri": "https://localhost:8080/"
        },
        "outputId": "1fd56160-a365-425e-d617-63079c33a215"
      },
      "outputs": [
        {
          "output_type": "execute_result",
          "data": {
            "text/plain": [
              "(268795, 67199)"
            ]
          },
          "metadata": {},
          "execution_count": 54
        }
      ],
      "source": [
        "tt = xtrain.shape[0]\n",
        "tv = xval.shape[0]\n",
        "xtrain[int(tt*0.5):].shape[0], xval[int(tv*0.5):].shape[0]"
      ]
    },
    {
      "cell_type": "code",
      "execution_count": null,
      "metadata": {
        "id": "8x6n5nVvkWOW",
        "colab": {
          "base_uri": "https://localhost:8080/"
        },
        "outputId": "8e843ea7-e4ea-41cd-d475-3b047930eb76"
      },
      "outputs": [
        {
          "output_type": "stream",
          "name": "stdout",
          "text": [
            "Best performing K is 15 with an accuracy of 0.6494144258099079\n"
          ]
        }
      ],
      "source": [
        "ks = 17\n",
        "mean_acc = np.zeros(ks-1)\n",
        "std_acc = np.zeros(ks-1)\n",
        "\n",
        "for n in range(1,ks):\n",
        "    neigh = KNeighborsClassifier(n_neighbors = n).fit(xtrain[int(tt*0.5):],ytrain[int(tt*0.5):])\n",
        "    yhat = neigh.predict(xval[int(tv*0.5):])\n",
        "    mean_acc[n-1] = accuracy_score(yval[int(tv*0.5):],yhat)\n",
        "    std_acc[n-1] = np.std(yhat==yval[int(tv*0.5):])/np.sqrt(yhat.shape[0])\n",
        "print('Best performing K is '+ str(mean_acc.argmax()+1) + ' with an accuracy of ' +str(mean_acc.max()))"
      ]
    },
    {
      "cell_type": "code",
      "execution_count": null,
      "metadata": {
        "id": "E9oAEmgbkWOW"
      },
      "outputs": [],
      "source": [
        "plt.plot(range(1,ks),mean_acc,'g')\n",
        "plt.xlabel('K')\n",
        "plt.ylabel('Accuracy')\n",
        "plt.title('Evaluation of accuracy incrementing the value of K')\n",
        "plt.fill_between(range(1,ks),mean_acc-1*std_acc,mean_acc+1*std_acc, alpha=0.1)"
      ]
    },
    {
      "cell_type": "code",
      "execution_count": null,
      "metadata": {
        "id": "9K-walbKkWOW"
      },
      "outputs": [],
      "source": [
        "#Evaluation\n",
        "\n",
        "t0=time.time()\n",
        "model_knn = KNeighborsClassifier(n_neighbors = 16, n_jobs=-1)\n",
        "model_knn.fit(xtrain,ytrain)\n",
        "t_knn = time.time()-t0\n",
        "print('Time taken :' , t_knn)\n",
        "yhat = model_knn.predict(xtest)\n",
        "jaccard_knn = jaccard_score(ytest,yhat)\n",
        "c_knn = classification_report(ytest,yhat)\n",
        "prec_knn = precision_score(ytest, yhat)\n",
        "rec_knn = recall_score(ytest, yhat)\n",
        "print('Jaccard :',jaccard_knn,'\\n',\n",
        "     c_knn)"
      ]
    },
    {
      "cell_type": "code",
      "execution_count": null,
      "metadata": {
        "id": "ctoYR-A2kWOX"
      },
      "outputs": [],
      "source": [
        "size = [1000,5000,10000,12000,15000,20000,30000,40000,50000,75000,100000]\n",
        "acc = []\n",
        "t = []\n",
        "for s in size:\n",
        "    t0=time.time()\n",
        "    sv = SVC().fit(xtrain[:s],ytrain[:s])\n",
        "    t.append(time.time()-t0)\n",
        "    yhat = sv.predict(xval[:s])\n",
        "    acc.append(jaccard_score(yval[:s],yhat))"
      ]
    },
    {
      "cell_type": "code",
      "execution_count": null,
      "metadata": {
        "id": "3BYQPZotkWOX"
      },
      "outputs": [],
      "source": [
        "performance = pd.DataFrame({'acc':acc, 'time':t}, index=size)\n",
        "performance"
      ]
    },
    {
      "cell_type": "code",
      "execution_count": null,
      "metadata": {
        "id": "hRoWbbGLkWOX"
      },
      "outputs": [],
      "source": [
        "performance.plot(y='acc', color='r', label='accuracy')\n",
        "plt.xlabel('Samples')\n",
        "plt.ylabel('Evaluation accuracy')\n",
        "plt.title('Accuracy')\n",
        "performance.plot(y='time', color='green', label='time')\n",
        "plt.xlabel('Samples')\n",
        "plt.ylabel('Computational Time ')\n",
        "plt.title('Time(s)')"
      ]
    },
    {
      "cell_type": "code",
      "execution_count": null,
      "metadata": {
        "id": "irUI1lGfkWOY"
      },
      "outputs": [],
      "source": [
        "print('Jaccard:',jaccard_rf,'Precision:',prec_rf,'Recall:',rec_rf)\n",
        "print('Jaccard:',jaccard_lr,'Precision:',prec_lr,'Recall:',rec_lr)\n",
        "print('Jaccard:',jaccard_knn,'Precision:',prec_knn,'Recall:',rec_knn)\n"
      ]
    },
    {
      "cell_type": "code",
      "execution_count": null,
      "metadata": {
        "id": "I4t8Gqt_kWOY"
      },
      "outputs": [],
      "source": [
        "#ROC curve.\n",
        "\n",
        "yscores = model_rf.predict_proba(xtest)\n",
        "\n",
        "false_positive_rate, true_positive_rate, thresholds = roc_curve(ytest.values, yscores[:,1])\n",
        "\n",
        "def plot_roc_curve(false_positive_rate, true_positive_rate, label=None):\n",
        "    plt.plot(false_positive_rate, true_positive_rate, linewidth=2, label='a')\n",
        "    plt.plot([0, 1], [0, 1], 'r', linewidth=4)\n",
        "    plt.axis([0, 1, 0, 1])\n",
        "    plt.xlabel('False Positive Rate (FPR)', fontsize=16)\n",
        "    plt.ylabel('True Positive Rate (TPR)', fontsize=16)\n",
        "\n",
        "plt.figure(figsize=(10, 10))\n",
        "plt.title('ROC curve', fontsize=20)\n",
        "plot_roc_curve(false_positive_rate, true_positive_rate)\n",
        "plt.show()"
      ]
    },
    {
      "cell_type": "code",
      "source": [
        "import pickle"
      ],
      "metadata": {
        "id": "UMN-tMf8hmOZ"
      },
      "execution_count": null,
      "outputs": []
    },
    {
      "cell_type": "code",
      "source": [
        "pickle.dump(model_rf, open('model.pkl','wb'))"
      ],
      "metadata": {
        "id": "PJogNBW_j4rv"
      },
      "execution_count": null,
      "outputs": []
    }
  ],
  "metadata": {
    "kernelspec": {
      "display_name": "Python 3",
      "language": "python",
      "name": "python3"
    },
    "colab": {
      "provenance": []
    }
  },
  "nbformat": 4,
  "nbformat_minor": 0
}